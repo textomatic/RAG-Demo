{
  "cells": [
    {
      "cell_type": "markdown",
      "metadata": {
        "nteract": {
          "transient": {
            "deleting": false
          }
        }
      },
      "source": [
        "# Demonstration of Retrieval Augmented Generation with LangChain"
      ]
    },
    {
      "cell_type": "markdown",
      "metadata": {
        "nteract": {
          "transient": {
            "deleting": false
          }
        }
      },
      "source": [
        "## Install required libraries"
      ]
    },
    {
      "cell_type": "code",
      "execution_count": 1,
      "metadata": {
        "gather": {
          "logged": 1696810966898
        }
      },
      "outputs": [
        {
          "name": "stdout",
          "output_type": "stream",
          "text": [
            "Requirement already satisfied: openai in /anaconda/envs/azureml_py38/lib/python3.8/site-packages (0.28.1)\n",
            "Requirement already satisfied: langchain in /anaconda/envs/azureml_py38/lib/python3.8/site-packages (0.0.310)\n",
            "Requirement already satisfied: azure-search-documents==11.4.0b8 in /anaconda/envs/azureml_py38/lib/python3.8/site-packages (11.4.0b8)\n",
            "Requirement already satisfied: azure-identity in /anaconda/envs/azureml_py38/lib/python3.8/site-packages (1.13.0)\n",
            "Requirement already satisfied: pypdf in /anaconda/envs/azureml_py38/lib/python3.8/site-packages (3.16.3)\n",
            "Requirement already satisfied: tiktoken in /anaconda/envs/azureml_py38/lib/python3.8/site-packages (0.5.1)\n",
            "Requirement already satisfied: requests>=2.20 in /anaconda/envs/azureml_py38/lib/python3.8/site-packages (from openai) (2.31.0)\n",
            "Requirement already satisfied: aiohttp in /anaconda/envs/azureml_py38/lib/python3.8/site-packages (from openai) (3.8.4)\n",
            "Requirement already satisfied: tqdm in /anaconda/envs/azureml_py38/lib/python3.8/site-packages (from openai) (4.65.0)\n",
            "Requirement already satisfied: SQLAlchemy<3,>=1.4 in /anaconda/envs/azureml_py38/lib/python3.8/site-packages (from langchain) (2.0.21)\n",
            "Requirement already satisfied: anyio<4.0 in /anaconda/envs/azureml_py38/lib/python3.8/site-packages (from langchain) (3.6.2)\n",
            "Requirement already satisfied: async-timeout<5.0.0,>=4.0.0; python_version < \"3.11\" in /anaconda/envs/azureml_py38/lib/python3.8/site-packages (from langchain) (4.0.2)\n",
            "Requirement already satisfied: jsonpatch<2.0,>=1.33 in /anaconda/envs/azureml_py38/lib/python3.8/site-packages (from langchain) (1.33)\n",
            "Requirement already satisfied: PyYAML>=5.3 in /anaconda/envs/azureml_py38/lib/python3.8/site-packages (from langchain) (6.0)\n",
            "Requirement already satisfied: pydantic<3,>=1 in /anaconda/envs/azureml_py38/lib/python3.8/site-packages (from langchain) (1.10.8)\n",
            "Requirement already satisfied: tenacity<9.0.0,>=8.1.0 in /anaconda/envs/azureml_py38/lib/python3.8/site-packages (from langchain) (8.2.2)\n",
            "Requirement already satisfied: numpy<2,>=1 in /anaconda/envs/azureml_py38/lib/python3.8/site-packages (from langchain) (1.21.6)\n",
            "Requirement already satisfied: dataclasses-json<0.7,>=0.5.7 in /anaconda/envs/azureml_py38/lib/python3.8/site-packages (from langchain) (0.6.1)\n",
            "Requirement already satisfied: langsmith<0.1.0,>=0.0.40 in /anaconda/envs/azureml_py38/lib/python3.8/site-packages (from langchain) (0.0.43)\n",
            "Requirement already satisfied: azure-core<2.0.0,>=1.24.0 in /anaconda/envs/azureml_py38/lib/python3.8/site-packages (from azure-search-documents==11.4.0b8) (1.26.4)\n",
            "Requirement already satisfied: isodate>=0.6.0 in /anaconda/envs/azureml_py38/lib/python3.8/site-packages (from azure-search-documents==11.4.0b8) (0.6.1)\n",
            "Requirement already satisfied: azure-common~=1.1 in /anaconda/envs/azureml_py38/lib/python3.8/site-packages (from azure-search-documents==11.4.0b8) (1.1.28)\n",
            "Requirement already satisfied: cryptography>=2.5 in /anaconda/envs/azureml_py38/lib/python3.8/site-packages (from azure-identity) (38.0.4)\n",
            "Requirement already satisfied: msal-extensions<2.0.0,>=0.3.0 in /anaconda/envs/azureml_py38/lib/python3.8/site-packages (from azure-identity) (1.0.0)\n",
            "Requirement already satisfied: six>=1.12.0 in /anaconda/envs/azureml_py38/lib/python3.8/site-packages (from azure-identity) (1.16.0)\n",
            "Requirement already satisfied: msal<2.0.0,>=1.20.0 in /anaconda/envs/azureml_py38/lib/python3.8/site-packages (from azure-identity) (1.22.0)\n",
            "Requirement already satisfied: typing_extensions>=3.7.4.3; python_version < \"3.10\" in /anaconda/envs/azureml_py38/lib/python3.8/site-packages (from pypdf) (4.6.0)\n",
            "Requirement already satisfied: regex>=2022.1.18 in /anaconda/envs/azureml_py38/lib/python3.8/site-packages (from tiktoken) (2023.5.5)\n",
            "Requirement already satisfied: urllib3<3,>=1.21.1 in /anaconda/envs/azureml_py38/lib/python3.8/site-packages (from requests>=2.20->openai) (1.26.16)\n",
            "Requirement already satisfied: charset-normalizer<4,>=2 in /anaconda/envs/azureml_py38/lib/python3.8/site-packages (from requests>=2.20->openai) (3.1.0)\n",
            "Requirement already satisfied: idna<4,>=2.5 in /anaconda/envs/azureml_py38/lib/python3.8/site-packages (from requests>=2.20->openai) (3.4)\n",
            "Requirement already satisfied: certifi>=2017.4.17 in /anaconda/envs/azureml_py38/lib/python3.8/site-packages (from requests>=2.20->openai) (2022.9.24)\n",
            "Requirement already satisfied: aiosignal>=1.1.2 in /anaconda/envs/azureml_py38/lib/python3.8/site-packages (from aiohttp->openai) (1.3.1)\n",
            "Requirement already satisfied: attrs>=17.3.0 in /anaconda/envs/azureml_py38/lib/python3.8/site-packages (from aiohttp->openai) (23.1.0)\n",
            "Requirement already satisfied: multidict<7.0,>=4.5 in /anaconda/envs/azureml_py38/lib/python3.8/site-packages (from aiohttp->openai) (6.0.4)\n",
            "Requirement already satisfied: frozenlist>=1.1.1 in /anaconda/envs/azureml_py38/lib/python3.8/site-packages (from aiohttp->openai) (1.3.3)\n",
            "Requirement already satisfied: yarl<2.0,>=1.0 in /anaconda/envs/azureml_py38/lib/python3.8/site-packages (from aiohttp->openai) (1.9.2)\n",
            "Requirement already satisfied: greenlet!=0.4.17; platform_machine == \"aarch64\" or (platform_machine == \"ppc64le\" or (platform_machine == \"x86_64\" or (platform_machine == \"amd64\" or (platform_machine == \"AMD64\" or (platform_machine == \"win32\" or platform_machine == \"WIN32\"))))) in /anaconda/envs/azureml_py38/lib/python3.8/site-packages (from SQLAlchemy<3,>=1.4->langchain) (2.0.2)\n",
            "Requirement already satisfied: sniffio>=1.1 in /anaconda/envs/azureml_py38/lib/python3.8/site-packages (from anyio<4.0->langchain) (1.3.0)\n",
            "Requirement already satisfied: jsonpointer>=1.9 in /anaconda/envs/azureml_py38/lib/python3.8/site-packages (from jsonpatch<2.0,>=1.33->langchain) (2.4)\n",
            "Requirement already satisfied: marshmallow<4.0.0,>=3.18.0 in /anaconda/envs/azureml_py38/lib/python3.8/site-packages (from dataclasses-json<0.7,>=0.5.7->langchain) (3.20.1)\n",
            "Requirement already satisfied: typing-inspect<1,>=0.4.0 in /anaconda/envs/azureml_py38/lib/python3.8/site-packages (from dataclasses-json<0.7,>=0.5.7->langchain) (0.9.0)\n",
            "Requirement already satisfied: cffi>=1.12 in /anaconda/envs/azureml_py38/lib/python3.8/site-packages (from cryptography>=2.5->azure-identity) (1.15.1)\n",
            "Requirement already satisfied: portalocker<3,>=1.0; python_version >= \"3.5\" and platform_system != \"Windows\" in /anaconda/envs/azureml_py38/lib/python3.8/site-packages (from msal-extensions<2.0.0,>=0.3.0->azure-identity) (2.7.0)\n",
            "Requirement already satisfied: PyJWT[crypto]<3,>=1.0.0 in /anaconda/envs/azureml_py38/lib/python3.8/site-packages (from msal<2.0.0,>=1.20.0->azure-identity) (2.4.0)\n",
            "Requirement already satisfied: packaging>=17.0 in /anaconda/envs/azureml_py38/lib/python3.8/site-packages (from marshmallow<4.0.0,>=3.18.0->dataclasses-json<0.7,>=0.5.7->langchain) (23.0)\n",
            "Requirement already satisfied: mypy-extensions>=0.3.0 in /anaconda/envs/azureml_py38/lib/python3.8/site-packages (from typing-inspect<1,>=0.4.0->dataclasses-json<0.7,>=0.5.7->langchain) (1.0.0)\n",
            "Requirement already satisfied: pycparser in /anaconda/envs/azureml_py38/lib/python3.8/site-packages (from cffi>=1.12->cryptography>=2.5->azure-identity) (2.21)\n"
          ]
        }
      ],
      "source": [
        "!pip install openai langchain azure-search-documents==11.4.0b8 azure-identity pypdf tiktoken"
      ]
    },
    {
      "cell_type": "markdown",
      "metadata": {
        "nteract": {
          "transient": {
            "deleting": false
          }
        }
      },
      "source": [
        "## Import libraries"
      ]
    },
    {
      "cell_type": "code",
      "execution_count": 2,
      "metadata": {
        "gather": {
          "logged": 1696830615360
        },
        "jupyter": {
          "outputs_hidden": false,
          "source_hidden": false
        },
        "nteract": {
          "transient": {
            "deleting": false
          }
        }
      },
      "outputs": [],
      "source": [
        "import openai\n",
        "import os\n",
        "from langchain.embeddings import OpenAIEmbeddings\n",
        "from langchain.vectorstores.azuresearch import AzureSearch\n",
        "from langchain.schema.runnable import RunnablePassthrough\n",
        "from langchain.prompts import PromptTemplate\n",
        "from langchain.chat_models import ChatOpenAI"
      ]
    },
    {
      "cell_type": "markdown",
      "metadata": {
        "nteract": {
          "transient": {
            "deleting": false
          }
        }
      },
      "source": [
        "## Configure OpenAI settings"
      ]
    },
    {
      "cell_type": "code",
      "execution_count": 3,
      "metadata": {
        "gather": {
          "logged": 1696830618782
        },
        "jupyter": {
          "outputs_hidden": false,
          "source_hidden": false
        },
        "nteract": {
          "transient": {
            "deleting": false
          }
        }
      },
      "outputs": [],
      "source": [
        "os.environ[\"OPENAI_API_TYPE\"] = \"openai\"\n",
        "os.environ[\"OPENAI_API_BASE\"] = \"https://api.openai.com/v1\"\n",
        "os.environ[\"OPENAI_API_KEY\"] = \"YOUR_OPENAI_API_KEY\"\n",
        "os.environ[\"OPENAI_API_VERSION\"] = \"2020-11-07\"\n",
        "model: str = \"text-embedding-ada-002\""
      ]
    },
    {
      "cell_type": "markdown",
      "metadata": {
        "nteract": {
          "transient": {
            "deleting": false
          }
        }
      },
      "source": [
        "## Configure vector store settings"
      ]
    },
    {
      "cell_type": "code",
      "execution_count": 4,
      "metadata": {
        "gather": {
          "logged": 1696830620888
        },
        "jupyter": {
          "outputs_hidden": false,
          "source_hidden": false
        },
        "nteract": {
          "transient": {
            "deleting": false
          }
        }
      },
      "outputs": [],
      "source": [
        "vector_store_address: str = \"YOUR_AZURE_COGNITIVE_SEARCH_ENDPOINT\"\n",
        "vector_store_password: str = \"YOUR_AZURE_COGNITIVE_SEARCH_API_KEY\""
      ]
    },
    {
      "cell_type": "markdown",
      "metadata": {
        "nteract": {
          "transient": {
            "deleting": false
          }
        }
      },
      "source": [
        "## Create a new index in the vector store"
      ]
    },
    {
      "cell_type": "code",
      "execution_count": 16,
      "metadata": {
        "gather": {
          "logged": 1696820062580
        },
        "jupyter": {
          "outputs_hidden": false,
          "source_hidden": false
        },
        "nteract": {
          "transient": {
            "deleting": false
          }
        }
      },
      "outputs": [],
      "source": [
        "from azure.search.documents.indexes.models import (\n",
        "    SearchableField,\n",
        "    SearchField,\n",
        "    SearchFieldDataType,\n",
        "    SimpleField\n",
        ")\n",
        "\n",
        "embeddings: OpenAIEmbeddings = OpenAIEmbeddings(deployment=model, chunk_size=1)\n",
        "embedding_function = embeddings.embed_query\n",
        "\n",
        "fields = [\n",
        "    SimpleField(\n",
        "        name=\"id\",\n",
        "        type=SearchFieldDataType.String,\n",
        "        key=True,\n",
        "        filterable=True,\n",
        "    ),\n",
        "    SearchableField(\n",
        "        name=\"content\",\n",
        "        type=SearchFieldDataType.String,\n",
        "        searchable=True,\n",
        "    ),\n",
        "    SearchField(\n",
        "        name=\"content_vector\",\n",
        "        type=SearchFieldDataType.Collection(SearchFieldDataType.Single),\n",
        "        searchable=True,\n",
        "        vector_search_dimensions=len(embedding_function(\"Text\")),\n",
        "        vector_search_configuration=\"default\",\n",
        "    ),\n",
        "    SearchableField(\n",
        "        name=\"metadata\",\n",
        "        type=SearchFieldDataType.String,\n",
        "        searchable=True,\n",
        "    )\n",
        "]\n",
        "\n",
        "index_name: str = \"rag-demo-kroger\"\n",
        "\n",
        "vector_store: AzureSearch = AzureSearch(\n",
        "    azure_search_endpoint=vector_store_address,\n",
        "    azure_search_key=vector_store_password,\n",
        "    index_name=index_name,\n",
        "    embedding_function=embedding_function,\n",
        "    fields=fields\n",
        ")"
      ]
    },
    {
      "cell_type": "markdown",
      "metadata": {
        "nteract": {
          "transient": {
            "deleting": false
          }
        }
      },
      "source": [
        "## Download some documents"
      ]
    },
    {
      "cell_type": "code",
      "execution_count": 21,
      "metadata": {
        "gather": {
          "logged": 1696811947847
        },
        "jupyter": {
          "outputs_hidden": false,
          "source_hidden": false
        },
        "nteract": {
          "transient": {
            "deleting": false
          }
        }
      },
      "outputs": [
        {
          "name": "stdout",
          "output_type": "stream",
          "text": [
            "--2023-10-09 00:45:10--  https://ir.kroger.com/files/doc_financials/2023/q1/10qq223.pdf\n",
            "Resolving ir.kroger.com (ir.kroger.com)... 162.159.129.11, 162.159.130.11, 2606:4700:7::a29f:820b, ...\n",
            "Connecting to ir.kroger.com (ir.kroger.com)|162.159.129.11|:443... connected.\n",
            "HTTP request sent, awaiting response... 200 OK\n",
            "Length: 368222 (360K) [application/pdf]\n",
            "Saving to: ‘docs/10qq223.pdf’\n",
            "\n",
            "10qq223.pdf         100%[===================>] 359.59K  --.-KB/s    in 0.01s   \n",
            "\n",
            "2023-10-09 00:45:10 (28.4 MB/s) - ‘docs/10qq223.pdf’ saved [368222/368222]\n",
            "\n",
            "--2023-10-09 00:45:10--  https://ir.kroger.com/files/doc_financials/2023/q1/10qq123.pdf\n",
            "Resolving ir.kroger.com (ir.kroger.com)... 162.159.130.11, 162.159.129.11, 2606:4700:7::a29f:820b, ...\n",
            "Connecting to ir.kroger.com (ir.kroger.com)|162.159.130.11|:443... connected.\n",
            "HTTP request sent, awaiting response... 200 OK\n",
            "Length: 335276 (327K) [application/pdf]\n",
            "Saving to: ‘docs/10qq123.pdf’\n",
            "\n",
            "10qq123.pdf         100%[===================>] 327.42K  --.-KB/s    in 0.01s   \n",
            "\n",
            "2023-10-09 00:45:11 (29.5 MB/s) - ‘docs/10qq123.pdf’ saved [335276/335276]\n",
            "\n",
            "--2023-10-09 00:45:11--  https://ir.kroger.com/files/doc_financials/2022/q4/10k22.pdf\n",
            "Resolving ir.kroger.com (ir.kroger.com)... 162.159.130.11, 162.159.129.11, 2606:4700:7::a29f:820b, ...\n",
            "Connecting to ir.kroger.com (ir.kroger.com)|162.159.130.11|:443... connected.\n",
            "HTTP request sent, awaiting response... 200 OK\n",
            "Length: 955335 (933K) [application/pdf]\n",
            "Saving to: ‘docs/10k22.pdf’\n",
            "\n",
            "10k22.pdf           100%[===================>] 932.94K  --.-KB/s    in 0.01s   \n",
            "\n",
            "2023-10-09 00:45:11 (65.0 MB/s) - ‘docs/10k22.pdf’ saved [955335/955335]\n",
            "\n",
            "--2023-10-09 00:45:12--  https://ir.kroger.com/files/doc_financials/2022/q3/10qq322.pdf\n",
            "Resolving ir.kroger.com (ir.kroger.com)... 162.159.130.11, 162.159.129.11, 2606:4700:7::a29f:820b, ...\n",
            "Connecting to ir.kroger.com (ir.kroger.com)|162.159.130.11|:443... connected.\n",
            "HTTP request sent, awaiting response... 200 OK\n",
            "Length: 368617 (360K) [application/pdf]\n",
            "Saving to: ‘docs/10qq322.pdf’\n",
            "\n",
            "10qq322.pdf         100%[===================>] 359.98K  --.-KB/s    in 0.01s   \n",
            "\n",
            "2023-10-09 00:45:12 (27.5 MB/s) - ‘docs/10qq322.pdf’ saved [368617/368617]\n",
            "\n"
          ]
        }
      ],
      "source": [
        "!wget https://ir.kroger.com/files/doc_financials/2023/q1/10qq223.pdf -P \"docs/\"\n",
        "!wget https://ir.kroger.com/files/doc_financials/2023/q1/10qq123.pdf -P \"docs/\"\n",
        "!wget https://ir.kroger.com/files/doc_financials/2022/q4/10k22.pdf -P \"docs/\"\n",
        "!wget https://ir.kroger.com/files/doc_financials/2022/q3/10qq322.pdf -P \"docs/\""
      ]
    },
    {
      "cell_type": "markdown",
      "metadata": {
        "nteract": {
          "transient": {
            "deleting": false
          }
        }
      },
      "source": [
        "## Define function to estimate number of tokens from documents"
      ]
    },
    {
      "cell_type": "code",
      "execution_count": 5,
      "metadata": {
        "gather": {
          "logged": 1696819065750
        },
        "jupyter": {
          "outputs_hidden": false,
          "source_hidden": false
        },
        "nteract": {
          "transient": {
            "deleting": false
          }
        }
      },
      "outputs": [],
      "source": [
        "import tiktoken\n",
        "\n",
        "def num_tokens_from_string(string: str, encoding_name: str) -> int:\n",
        "    \"\"\"Returns the number of tokens in a text string.\"\"\"\n",
        "    encoding = tiktoken.get_encoding(encoding_name)\n",
        "    num_tokens = len(encoding.encode(string))\n",
        "    return num_tokens"
      ]
    },
    {
      "cell_type": "markdown",
      "metadata": {
        "nteract": {
          "transient": {
            "deleting": false
          }
        }
      },
      "source": [
        "## Load documents and split them into chunks"
      ]
    },
    {
      "cell_type": "code",
      "execution_count": 6,
      "metadata": {
        "gather": {
          "logged": 1696819111819
        },
        "jupyter": {
          "outputs_hidden": false,
          "source_hidden": false
        },
        "nteract": {
          "transient": {
            "deleting": false
          }
        }
      },
      "outputs": [],
      "source": [
        "from langchain.document_loaders import PyPDFDirectoryLoader\n",
        "from langchain.text_splitter import TokenTextSplitter\n",
        "\n",
        "loader = PyPDFDirectoryLoader(\"docs/\")\n",
        "\n",
        "documents = loader.load()\n",
        "text_splitter = TokenTextSplitter(chunk_size=500, chunk_overlap=0)\n",
        "docs = text_splitter.split_documents(documents)"
      ]
    },
    {
      "cell_type": "markdown",
      "metadata": {
        "nteract": {
          "transient": {
            "deleting": false
          }
        }
      },
      "source": [
        "## Calculate total number of tokens and estimate cost of embedding"
      ]
    },
    {
      "cell_type": "code",
      "execution_count": 7,
      "metadata": {
        "gather": {
          "logged": 1696819114991
        },
        "jupyter": {
          "outputs_hidden": false,
          "source_hidden": false
        },
        "nteract": {
          "transient": {
            "deleting": false
          }
        }
      },
      "outputs": [
        {
          "name": "stdout",
          "output_type": "stream",
          "text": [
            "Total number of document chunks = 444\n",
            "Total tokens = 164959\n",
            "Estimated cost of generating embeddings = $0.0165\n"
          ]
        }
      ],
      "source": [
        "total_tokens = 0\n",
        "token_encoding = \"cl100k_base\"\n",
        "\n",
        "for doc in docs:\n",
        "    total_tokens += num_tokens_from_string(doc.page_content, token_encoding)\n",
        "\n",
        "print(f\"Total number of document chunks = {len(docs)}\")\n",
        "print(f\"Total tokens = {total_tokens}\")\n",
        "print(f\"Estimated cost of generating embeddings = ${total_tokens/1000.0*.0001:.4f}\")"
      ]
    },
    {
      "cell_type": "markdown",
      "metadata": {
        "nteract": {
          "transient": {
            "deleting": false
          }
        }
      },
      "source": [
        "## Add documents and embeddings to vector store"
      ]
    },
    {
      "cell_type": "code",
      "execution_count": 8,
      "metadata": {
        "gather": {
          "logged": 1696819197197
        },
        "jupyter": {
          "outputs_hidden": false,
          "source_hidden": false
        },
        "nteract": {
          "transient": {
            "deleting": false
          }
        }
      },
      "outputs": [
        {
          "data": {
            "text/plain": [
              "['NzU5OWE5OWEtODA2NS00YWNhLTk4ZGEtNmNlOTk3YTk3ZWFl',\n",
              " 'M2E0ZmM2OWMtNDdiMy00NWViLTgxZDItYTQxOTZiYzQwNTBh',\n",
              " 'NGFlMjc0MjEtNTc0Yy00MTgyLThiYmYtZTI0NTY3MDk1NTBk',\n",
              " 'YjdjYjQ5YTItM2FmNS00ZWQ3LWI0MDYtMzlhNjQ0MGI1NGU4',\n",
              " 'MTY3ODBlYzQtMTkwOC00NWFmLWE3NDctNzUzOWY3YTNlYThl',\n",
              " 'YzA5MmRjZjUtYmEyZC00Yzg4LThjMzMtY2EzN2RmNzFkZTIz',\n",
              " 'MWY5Y2ViMTUtMTQzZS00MGZkLTkwYzctYjI2OWVmNmFhMTEz',\n",
              " 'M2JlYTFlOGEtMmE1ZC00NzgwLWIwYmQtM2NiZmNhMjljZDQ5',\n",
              " 'YTI5NzQ0MjItMDE0OC00ZTM2LThkYzEtOGNkODcwYWQ0MjVk',\n",
              " 'MzA4NjJkOWItNGRjOC00OTUxLTlmOWQtMzAxZTQ3MzQ2MWYx',\n",
              " 'Zjg2YmQyMzctNmFiYS00ZDgzLWE3NWUtNzZkNmYwMjYzYThk',\n",
              " 'YTA5NjNlMzYtN2NmZC00ODNhLWFmOWUtMWE1MDNjMmNjODZk',\n",
              " 'ZmQ3MWYxZmUtOTAxNi00ZjFkLWExNGQtZjM5YjUyY2M3MDc5',\n",
              " 'NmRmM2Y5NjktNGU2ZS00NDQxLWEwNjMtYThiN2NiODA5Mjkz',\n",
              " 'M2MwNjE0ZTQtMGU1OC00YjY4LTgwOGMtMzdkN2Y1MzMzZWUx',\n",
              " 'NGJiYTRhZWQtMmY1MC00NDg2LThjNzUtODMxNGYxNWRkNjY0',\n",
              " 'Y2I1NjQ3OTAtYWQ0OS00ZTdlLWI0ZjUtN2JmMmE2YTY5YjBm',\n",
              " 'Njc4NmZjZWYtNmExYi00OTk2LWJmNjgtN2M2YzY2YmQ0ZTM3',\n",
              " 'OWMxY2JmZDAtMWU5Ny00ODY5LTkxNTAtNjQyY2Q0ZTg2NTAx',\n",
              " 'MjA3OGUxNTktODQ1Zi00OWVhLTkzMjItZTYzYTY1ZTc0N2E0',\n",
              " 'ZDBmMmUyYWUtOGY0Yy00MThkLTgxZWMtYTYwOTkxZjQ1OGM0',\n",
              " 'OWJhNTQxNmYtZmE3OC00OTBjLTkyZjMtNDU4MDc3OTk1MDZl',\n",
              " 'ZWMwOWZjN2ItYTAyYi00ZGMyLTliNTItNTY2N2I2Y2E5M2Ex',\n",
              " 'Y2E3ZDA1MWEtZGVhNi00YmMxLWIzYTEtZGZkM2Y4ODZiOGZh',\n",
              " 'Zjg1ZDViYjgtYWMxMS00YTMwLTlmNzktNDUxM2IxNTRiOWRj',\n",
              " 'NjViYjA1MGYtZjc0MS00NjU3LTlkOGEtMzY5ZjY3NmZmYjIy',\n",
              " 'MDIwZTQ3MzItZTc4YS00YzRmLTllNjItN2U5MDIxNWU1NWQ4',\n",
              " 'OWI1MTQ2MmQtZWFhYy00MmRjLWJiMGUtZDNlNGE0MzY3NmVm',\n",
              " 'N2RmNzFjNDEtOTA2Yi00Y2RlLTgwNmItNTAwMjMyMThmMGU4',\n",
              " 'ZmQ0ODc4MmUtM2E1Yy00ODU1LWE2MTItNWI5ZjJlMTAwMGYy',\n",
              " 'OTA3MGUzYmEtOTI1NS00MDk2LTg5N2QtOTYyZjUxZGVmZTNh',\n",
              " 'NWNmMDE0NGUtNDMyYi00NGU3LThiOTAtNWMyYjFiM2RiYjMz',\n",
              " 'NTM4Y2E5Y2EtNjU1NS00OWU5LTgxNWEtZGVhZDg2ZDU2MzEx',\n",
              " 'MDViNGVkYzUtNDBkNy00NWYwLThlNWQtZmNjMjMzZmYwOWJj',\n",
              " 'YzVlZmFjZWMtMDU2OS00ZGQ0LThhY2QtYjBiMTA0NmQ0ZDY2',\n",
              " 'Y2U4NTFmMjYtOWM1NS00OTM4LTg1YzktM2UyOGQ0YTFiY2Uw',\n",
              " 'Nzg2OTBjZmQtMGM2Yi00NGFjLWE3OGUtYjc2MDI3ZjBlZWFl',\n",
              " 'MmU5YjM0NzMtODE4MC00MjZiLWI4MWMtYjI4MjBjZWFmYTAz',\n",
              " 'ZDI3N2ZjOTItMDYxNy00OWM0LWJhMDQtNDgyYzVlMWIzZWZh',\n",
              " 'NzJhNjQzZmEtNmZkMS00MDc5LWI0ZjMtYWEyMTBmNzA1ODUx',\n",
              " 'YTlmZWM3NmUtYjc1ZS00MWY5LWEwNWYtY2Y3MmE5MTczMGQ5',\n",
              " 'NzZmNzgyYjMtZTYxMi00YzMyLWE5ZmYtNGQxYTliMTM3YzEw',\n",
              " 'OTk4YjU5NTktNGZjZi00MjUxLTk2NzEtN2RmZDM2ZTA5MTkx',\n",
              " 'NDlkOWU5YjEtODdjMS00ZGZiLTk0NWEtMmM5ZGUzN2ZjOWMw',\n",
              " 'MjU5NDg2OTctOTY2OS00NjE2LThjOWItMGRlZDExZGJmODIz',\n",
              " 'OGJjZjU5NTUtNWNmZi00ZmQ3LWE2ODgtMDliYThiZWQ0OTQw',\n",
              " 'MmQxNjcxZjgtNDUzYS00N2QzLThjMTUtYTk0YzgzNjM2ODUw',\n",
              " 'MzgzZWFjZDgtNzkzMS00YjExLTgxYjUtNzQyMWUyNmRkN2I2',\n",
              " 'ZmMxMmVhMTctODdmYy00ZjAyLTkzODctNmUzNzRhYTBkMDU3',\n",
              " 'MzUwNDMzNjQtMjUwZS00YjEzLTliNjEtOGVmNmI5NDMwYjU2',\n",
              " 'OTRiODA2YjQtNGNmYy00MTU5LWE2ZWYtZTMwNTMxM2Y5NTY5',\n",
              " 'MTIzNWIzYWItM2FhMC00NDI2LWE1YWUtMjM4ZmQ1ODFkMjBj',\n",
              " 'NDhlZmFlZjAtY2ZmNS00YWViLThjNDgtYzFiNWE2YjJjMmYx',\n",
              " 'NjQxNGJkYWQtMWU1Yy00YWFkLThiYjItYzc3MDI4NDMwOTM2',\n",
              " 'Y2Y0NWIzYTAtY2VjMS00OGVkLWE0Y2YtYTMxMGMwYWE3MGQy',\n",
              " 'YmNmYmYzOTctNmU1NC00MzkxLWE5NjktMjQ5YjdiNWI1ZjI4',\n",
              " 'ODg1MGYyZDYtMmFjMy00M2QzLWEyYTUtYzUzMjJhYmU5YjRl',\n",
              " 'NDI3MjE5ODgtZTBiNy00YjVlLTg3MDgtZWVkOGYzYmQ0ODAx',\n",
              " 'OTYxMWJjZjAtMGIxOC00YjVlLWFjMTYtNDczMWVkZjkwMmRh',\n",
              " 'NWJhM2RmZWMtYjdkMS00MjRlLTg1ZmQtMWJhMjQ1NmY3ZTE5',\n",
              " 'NzhkYTI3ZTAtMDVmZC00NWE5LThjOWEtMDc4ZmRmNzk5NTQ0',\n",
              " 'YmZjN2E1ZmEtM2IyZC00Yzk3LTkxYzUtNmU2YjQ4YjE1NjJj',\n",
              " 'ZTNjNzZjZGUtNTBmMi00MWM0LTg3ZTQtZjkxODE0MjA3YzM4',\n",
              " 'ZjY0ZjZjZjMtYTA3Mi00NjFkLTgwNTQtZGZmMWUyZDE2ZDIx',\n",
              " 'ZDQwZGUzNzQtMDBjYi00NDA2LWFhYmMtMWJlYmJlZTcxZjgz',\n",
              " 'ODFhNGEwZmUtM2M2ZC00MTc2LWE0NGItMDE4ZTAwMmIzYzlj',\n",
              " 'MmUwYzZiODAtZDNlYS00Yzg2LTg0OWMtNzQ1ODJmOTAwMDcw',\n",
              " 'NThhMzA5YTgtMDhhOC00NzRmLWFiNzItMGZhZDMwMjEzNDA1',\n",
              " 'NWY5N2U3MGItZTdhZS00YzY2LTkzOTAtNTA1MzVkNjIwZDc3',\n",
              " 'ZGMyZWYzMTAtOGY3ZS00NGQwLThiZTMtOTY4ODUzNmFkNDE2',\n",
              " 'Njk2NjE5YTEtMzU1Mi00NzE2LTk4YTUtNzhhNzM0M2I5MDg2',\n",
              " 'Y2NiZjEwNWItODRiNy00YzlhLWJhMzktYjJmZThkMTkzODU1',\n",
              " 'YjM5N2MyNzctMWM2ZC00ZDBjLTg0MmYtN2RjMmM4MWI2YTNi',\n",
              " 'YzNiYTQ4OTAtMTNlZi00YjI2LTgwNjUtNGE5ODI5Y2U0OGVh',\n",
              " 'ZWY0NGQ2ZTktNjViZC00M2VmLTg5OTgtODFkMmE1NTIyYjcz',\n",
              " 'MDUzYjc3ZGQtODVlMy00ZTYzLWFkNTYtYzFkNDgwODk0OGM2',\n",
              " 'NzY4NTYxYTEtMmVhYS00OWE1LTkyY2YtYWNkN2VmNDdiZWNh',\n",
              " 'Mjg0ZmFjNzEtMjEwZS00NTFkLWEyZmEtMzJkNGMxMDUyNTNl',\n",
              " 'NDQ5YTMzNDEtZDBjOC00Y2YxLTg2MzgtYmQwMDc2Y2E4ZjE5',\n",
              " 'YmExMWVmNjgtNTUyNi00N2EzLWFjYzYtZGU1YzA4Yzg1ZDhj',\n",
              " 'MzQ2MGU5OTUtODExZS00M2M2LWFlOTAtYzY1MzM3YjJmNWEw',\n",
              " 'NGVkMDE1OTgtOTYxMi00MTAyLWIyZDctNTM4MGVkMjQwOWMx',\n",
              " 'NTEwZTA0MDQtMzlkNi00Yjk3LTllMTAtNGI1OGU1NGZjOTY0',\n",
              " 'ZmRmYjNlNWQtYjY1Zi00OGVjLWI5MTktYzM3ZGQ4YTdjZjZi',\n",
              " 'ZDRlOTczYzctYTExOC00ODFkLTkxNjAtNjY2NjBiYTNmYmFl',\n",
              " 'YWIxNWMyZDctMjA4Yi00YjY0LTk5YzYtNzE3NjVlMzRiYmNl',\n",
              " 'ZWE5YTgyOTAtZDQzNC00ZGU2LTk2NzQtMjI0OWE1OWI1Zjcy',\n",
              " 'OTMwMmRiNzMtNmQzMS00ZTFlLWJkNDEtYzc4Y2ZlMjNlMDlm',\n",
              " 'OWNmMWMxZmUtNDNhMC00YzA2LWE5YmUtYjhhYzNiNWM2MGE1',\n",
              " 'MjhjY2Q4ZWItZGJiZS00NmMwLWFjODUtOGRkNTU3MmVmNDc4',\n",
              " 'YmY1YTQ1ZjMtZDFhNi00YmMyLWI2YjMtNWZiYTk2Y2QzNTll',\n",
              " 'NTE0Y2RmZWEtMjI2Yy00YTNiLThhNzItMjczMTkyNGRmZjEx',\n",
              " 'ZjllZTYyMGQtOTliOS00YTJjLWExNzktZDllYTNlYmI2NTE5',\n",
              " 'ZGVjMWVjYWMtNTBhZS00ZTcwLWFmYTItN2ExZmQyOGU0NWVm',\n",
              " 'M2UzNmNiMzUtMDVlZi00NGQ1LTkxY2ItZDY3OWYwYTkxNjMy',\n",
              " 'NDJmMDM4ZjMtMjFlZS00MDA4LTlkOGYtM2UxZjIyMjc5N2Vi',\n",
              " 'ZTM3NGFmNWEtNTYwYi00YWNlLTkyMzUtMjI1NjFiNTcxMjgw',\n",
              " 'MTAzNGRlMGUtZGU5NS00MmQ1LTkwMjUtMjI1ODk4YzdjNWM5',\n",
              " 'MTBlYjNmOTctZWE5Ni00NmY2LWI0MDctNzcxOThkOTUwYTQ4',\n",
              " 'MDc3NWZkZTYtNjQwZS00MDZiLWE5NDAtMjIzZWQ5OGQzMGJj',\n",
              " 'NDc1NmMyOGYtNDg5YS00NzgzLThkYWYtZDM2OWZkY2RhODE0',\n",
              " 'ZmUyMmRhZjktNzYwMS00YmY2LWFkZDItNGQ1ODM5MWNkYjA4',\n",
              " 'ZmQ4ZWViZTMtMDkyYy00MjNhLWIyOWYtYjViNzYyYzZmNjEz',\n",
              " 'YjIyM2Y4ZWQtYzk0Ni00OTA3LWEwZjQtNWFkZmEyNzI3NDZm',\n",
              " 'MTg5ZDkyZTctNmQyMC00MjVhLWIwYTUtNzhkMTMwZDFlNDVm',\n",
              " 'NTZmNGE3Y2UtNTcyMS00MTBkLTkyYWYtMzliNTY3NWQzYWU1',\n",
              " 'ODg5ZDFlNDYtNjU3NS00NWZmLWJlYTgtNmY5NDJhZTUxM2E4',\n",
              " 'MzAxZGM2MGQtNzFiYi00ZTEyLTkxNzUtY2JhNjkwZjM5ZGMw',\n",
              " 'YjA4ZDAzYjItMmNjYi00MmQyLWJiNDYtMzJkZmUyMTE1M2Y1',\n",
              " 'YTI5N2ZkZDEtNmE5OC00NWI2LWI4YTYtNGNlYzM5MzBiYWNm',\n",
              " 'Y2UzODhlNzUtOGIwOS00NGNmLWE1Y2QtNTdmZThiZmM5YWFl',\n",
              " 'OGM4ZGFhZmYtZWQ1NS00OWEyLTgwZjMtZDJlNzNlNTRkOWI0',\n",
              " 'YzQ3NDMxODgtZTVkOC00ZTFhLWFmOGUtM2U5ZWRmNzVkYWI0',\n",
              " 'NGZlNGE4OWUtNzY0NS00ZGI1LTkyNzQtZWI5MWIyMzQzZDVm',\n",
              " 'ZmE0ZDc5MTMtMjAzMC00MmFjLWI4NWEtMmNiMzRjMDZhNmZk',\n",
              " 'ODAzMmFhMWUtMGMzZC00ZGU0LThkNjItZTRmYmIyZTViZmI4',\n",
              " 'YzFhZWNhOGQtYTJlYy00YjJlLThlN2YtNjg0ZjY2ZGI3ZGJl',\n",
              " 'M2E5Mzc4OGYtMGVlMi00MzBmLThhODktMTcwMDU1MDQ2MmZh',\n",
              " 'ZGFmOWZjMjUtODYwNi00OWQ4LTg3N2UtMzFhZDY4MzFkNTFi',\n",
              " 'Yzg4OWFhZjktZjUwZi00MDY4LWI3ZDYtNmM4YWYxNWE0YjAy',\n",
              " 'MzlmYzMyMTUtNGNiMi00MmVmLWJhNDYtYjZkZTcwNjY5YzU4',\n",
              " 'MWY3MGRkODItNGFkNy00ODY0LWI2YmQtZWY5N2Q1MjlkODYy',\n",
              " 'MmVkNjMwNWMtYzdiNC00NGNmLWE1ODEtZmQwMGVkOTE2Nzc2',\n",
              " 'OTY4YTYzOTYtNGI1NC00YjFjLWFlOWQtMGI1NGZmYTkyOTM5',\n",
              " 'ZWQ5MzNmMmEtMTVmNC00YzA0LThkMTctODc0YTg3MjcwYTVk',\n",
              " 'YTdlYWUwZDktNDdjYi00N2NhLWI5YmEtOGRmMDIwNDJhYTE2',\n",
              " 'YjM5ODU1ZGUtYWRjZi00NjkzLTlmYjEtM2YwZDlkNWQ1ODFk',\n",
              " 'ODE0NzhlYjktYWMzOC00Mjc0LTkyOTUtZWQ1YTc5NDdkMzUx',\n",
              " 'YmE3MDY2NWItNWEzZC00NjE1LWJlOTAtZGRkMGFiMzhkMThk',\n",
              " 'NDA0MzlmNDMtZDkxYy00OGQzLTg3MDAtMmU2Njg5YmNmYTc2',\n",
              " 'YTQ5MWY2NGMtMjFhMS00YjlkLThmMzUtNGI2OGVhNjZhZDlk',\n",
              " 'YjQyYTE0ZTMtNGRiYi00ZWU2LTg4NzktNTgwYTg2MGY0MmI0',\n",
              " 'MTZkMzYwZmEtZjBmMy00MTVlLTkwZTItZDMyNzY5YTRjMTlm',\n",
              " 'YjZjYTI2ZmItNTU1ZS00OGU2LTgwMzAtMGIyNDM5NmRkNGNm',\n",
              " 'NzQyNDI1YmYtOTAwYS00ZjQzLWE5YjEtYjNkOTk1NTBjMDlh',\n",
              " 'ODcxZDBlYjMtNjcwOC00NWUxLWFmMTEtZDg4NTI2ZDdmY2M2',\n",
              " 'YWUzOGU0OTUtYzc2ZC00YzQ3LWEzYTAtZTU2ZGVkM2IzY2Qx',\n",
              " 'ZWZlYjUxMGUtYTRhYS00Nzk0LThlM2EtZDI3NTExMTgyZGRl',\n",
              " 'NzVmZGU1OTItNmE1Zi00MzI4LWJhMzktZWJlYjQ4NGQ1NmEw',\n",
              " 'ZDNmZDlkODYtNzNlYy00ZjU0LWExMjUtNDk1Mjg3MTM0Njll',\n",
              " 'MDZlNjc0ZTUtZWU3ZC00NDVkLWE4NmQtNDdlNzYzMjVjNzM3',\n",
              " 'OTNlOWQ2NDQtMWUwMC00NDRhLWE4MDItMTQ1NDVkNDNkYWMz',\n",
              " 'YzJlNGVjODctODZjMC00MDA4LTgyNjQtMzY1ZDRiMzQ5NTM2',\n",
              " 'YmRhZGRhZDktOGUxYi00MjlhLTg3MTctNWNmOGE4OTk2NzJl',\n",
              " 'MjMxODI1NDAtYWUzYS00N2EzLWJlMGEtNjM1ODdkNWE1NWM3',\n",
              " 'ZDQxOTc2ZmQtNDZjNi00NDJhLThmMWEtMGE0NGZkZTc2Njcw',\n",
              " 'Njk3Y2JhNGItMTIxYi00NzUzLWFhZTctYzVjZTM2NjMwZTBl',\n",
              " 'OWMxODI4ZTQtZDY5OS00NzY2LThlZjItNWI0ODZkZTU0NjYx',\n",
              " 'NTk3NzVjNDgtMDBlZC00ZGNiLTk0ZmUtZmIyYWNjOTFmYTFm',\n",
              " 'ZTU1ZDAzMjktM2Y0Ni00MmQyLTgxZTUtODg4ZGY2MjliNDkz',\n",
              " 'MjA5MzQ2OTMtMzE2ZS00ZmQ1LTgxNmYtMTcxYmM4NzM1NWE3',\n",
              " 'ZDNjMDIzNjktOWZlOS00Y2IyLThlNzYtYTAzMWQyYzA1N2I4',\n",
              " 'NGRhNjFjYTAtMjQ5My00M2RiLTk5NWItNzhjYmFiYTNiYzEz',\n",
              " 'ZTljMjQ4NDEtODljYS00MjUxLWE5M2EtNjVmM2M2YTUyYmVi',\n",
              " 'YjYwMjdjZTQtZmJjNi00NGNlLWJkMzAtMTMyYWI0MmMzNzIy',\n",
              " 'NzU3YTY4Y2YtMGU3YS00OGUxLWE1ODktNjVjMjM0YTk4YWRm',\n",
              " 'MGZiMzBjNmItZGIyNC00NmQ5LWFlYWEtZWVhODcyMWIyNDdi',\n",
              " 'MWRjZWFhMzYtZTU2OC00Y2JhLTgxMzctZWQ2OWY3MWU2MzQx',\n",
              " 'YjljNTgwZTAtZWZmYy00NmZhLThhZjctMmUwMDM4NDU5ZDFi',\n",
              " 'YTQyM2U0NmUtMTQ5Mi00ZTQzLTliMmUtNTJiMzUxNTUzODA5',\n",
              " 'MWRkMWZjNGUtMzUxNC00N2VhLWIzOTgtNWU3YTk0YzcyMzc3',\n",
              " 'ZmI1ZDM1MWEtYmJhNy00NjM5LTgxY2YtODMwYjU5ODJhN2M0',\n",
              " 'NTAwNTVlMTctZGRiZi00ZmYyLTgyOWEtYmEzMjNiNTU1MjA0',\n",
              " 'NmUzZDRlZGYtODAzMy00OTVkLThlNDYtODYwMzI0NTIzMmVi',\n",
              " 'ZmIyOGUxNTctOWY4MC00MmM5LWIwM2EtOTY3NmNkYjE2YjI2',\n",
              " 'YzdlYmZjZWYtNGJkMi00NWFhLWFmNDktMzk4Zjk4OTNlZDU5',\n",
              " 'NTZkMDQwMmQtYjI5NC00MzUxLTllNzgtMjhiZmJiZWI4NmM1',\n",
              " 'ZDlhNDM1NTctOTY0Yy00ZWQ2LTlhZDItMWZlNDgzNzIwOGQw',\n",
              " 'MDI1ZDg2YmMtMzAwMy00MTMyLTkzYzMtNTBkMmRhYzU2ZWQ2',\n",
              " 'ZjlkMGY0MGYtN2NiYi00ZmI3LWI1YWQtNGZhZmQ0OTUxNDk2',\n",
              " 'ODI4YjUwYjktM2Q0Mi00ODFiLWI5NzgtZmMzNzRmYmJjNmZm',\n",
              " 'OWJiZmY4NTEtY2Q5Ni00ODc5LWIzNzMtZjNmYzRmY2E0NTBj',\n",
              " 'MGU3ZjljOGEtOGMwYS00ZmVhLWI3YWUtYzkzM2RhNjU4ZWFk',\n",
              " 'MDdiYzE4M2MtYzk0NS00YmQxLWI3OTgtNDJjZjM5YzEwMTRh',\n",
              " 'MTMzNmIzNmYtNzdkNS00YzlmLWIwZDQtYjg5MzViOWJlODIw',\n",
              " 'MjIzZjczYWEtY2Y5ZS00ODg2LWJjYjMtMWM5NzMzOGY5Mjdh',\n",
              " 'MDQ1OWIwZWEtYzVjYi00ZGZlLWJmY2QtODk2NjMwN2NiZTA0',\n",
              " 'ZDUxZjMzY2QtNjIzMS00NDNiLTk3MTktYmMxZTlkMWZkNGUy',\n",
              " 'OWE1MDQ1NWMtYjA1OS00NjFhLTgxZGUtZmE0ODk4ZGM0MTZj',\n",
              " 'OGU2ZDU1YWMtNDZmMi00NTMxLWE3NzUtMjEyODYyYWFmZjI1',\n",
              " 'ODU3MTFiYzEtN2Q3MS00YTZkLTliNGEtNGM5ZmJhODNmYmFm',\n",
              " 'MmU0OGFjZmMtMTdmYy00Zjc3LTg1ZjItMWEzYmVkZjYzMmYy',\n",
              " 'MzIxMTljZTgtMmQwNS00YTU2LTllZGYtMDYxNTEzNGY0Zjk0',\n",
              " 'ZjM3ZGYwZDEtZjJmOS00OGEzLThjMzctZmZiOGEzODBiZjZi',\n",
              " 'MmZjZGRmNzItOWMyNi00ODQ2LTkyYTItYzFiOWY1NWI1YjRh',\n",
              " 'NDI3MjA5MjMtMDg3Ny00ZjU3LTg5OTYtZWRmZjdkNjYzMzY5',\n",
              " 'ZDhiMWFjZGQtN2MyNy00ZDlkLWE5NzYtNjc5MzZjMWIwMWQy',\n",
              " 'YmZhZmI2YWYtYWMzMC00ODEzLTkzNDUtMjY4MGQ3MTAyOGUw',\n",
              " 'MTM3MWRjNjgtZTk5NS00YzNhLWJjYjktYWQ3MzZjNjE4Mjk0',\n",
              " 'ZDg2ZDAyYmItYmZlZS00Y2M0LWIzY2MtNTg1NTIyOTJkYjVm',\n",
              " 'NGFlYTkzOGItM2QzOS00OWJlLTljMjQtMTNjOTdiN2RjNTQ4',\n",
              " 'ZTczMTQyMzYtYzFiMC00YzlhLWEzNGMtNjAxY2YwY2ZhNGU3',\n",
              " 'NDYwNmZhZDctMTU5Yi00NTY3LWJmZTEtN2VlNjc5ZmY1Yzli',\n",
              " 'NzJjOGUyM2UtYWE3MC00YzM1LWJhMzktZDZmZTU5MmIwMDU4',\n",
              " 'NDkzOTQ0NjEtNjgxMS00YWJmLWEwYjctZDNiZjhkZjk0ODEy',\n",
              " 'Zjc0MGY4NDItNGIxZS00N2VhLWJmNTktZmUzMDI4ZDdjODQ3',\n",
              " 'YjRjY2M2NzUtNjUzMy00MmFiLThmZTUtMjMxOGE4OTI4MzFk',\n",
              " 'OTU4YTdlZDUtYTBkMC00ZGQ3LTg1MmEtYjk2OWM3NmM0M2I5',\n",
              " 'ZDNiZjhiNTYtZGQ1MS00MDYzLWIwOTItMDEzNzJkNTJlYTcy',\n",
              " 'YzczMmEzODYtNzViYS00ZjhhLWI5MDYtZjc1OGMzZjJlY2E2',\n",
              " 'MGQyYTNmNmYtN2FiYS00YTg1LThhYmItODIxYWM0ODNkMjA5',\n",
              " 'NjE1NGEwZTQtYTU1ZC00MTBkLWI5YTMtYjhkYTllNzBhZjE5',\n",
              " 'ZTI1YzkwMmUtOTIwZS00MmZlLWE4ZmUtODQ1Y2NiZDJlY2Iy',\n",
              " 'OTVlMTVjNjctNjNmNi00YjhlLThjNGEtMmRhYzNkMGE3NmE0',\n",
              " 'ZDBmYTIwYWQtOGQxMS00NjY0LTg4NTQtMzlhMjUwZmMyMTkw',\n",
              " 'NjEzNGZlNDQtMDAxNy00NDg3LTk2MDgtNTgxYmNjMGM4NzVl',\n",
              " 'OWVhMjAzNmUtZWU5Ni00N2E4LTg4MDAtN2QwMDY5OTQzMzNm',\n",
              " 'YmU4NWMzMWUtYWE2ZS00YmE4LTk3ZjAtYmNkODFkNjYwMTE0',\n",
              " 'Y2JkNmQxODAtZTczMS00MmYyLWExYzAtOTdiMWQwOTFkZWNi',\n",
              " 'ZGVlMTc0MGMtOGI2YS00MDliLWIxNWItN2Y4NTI3MzI3MzBh',\n",
              " 'ZjA2OTc4NGEtZGU4Ni00NGI1LWI2NzItNTE3MTIyMTRkMTA4',\n",
              " 'ZWE5YmIyOWYtMGZkZC00NDAxLThmMmUtMmYzNmQ3ZDc5NDkx',\n",
              " 'Mzc0MTkyZGMtNDY4Yi00NTRlLWE2ZWUtZjVmMDY4OWI1ZGNl',\n",
              " 'ZGY0OThjZjAtNzkwYy00MmM2LTkzYTItMmRiNzYxYjA4N2Y1',\n",
              " 'MzdjNTNjNWMtOTRmMC00NmNjLTg5ZGQtNzEzZDM2N2JmNmJh',\n",
              " 'NGU2Y2YxYTMtMTgwNS00ODFlLTg1YjQtNGMzMGFlODcyNjI3',\n",
              " 'ODFkYzIzMjUtZDM4YS00MjY1LWFmNGUtYWFjY2NhYTM3ZjUy',\n",
              " 'MmNjNDllNTctNDNkMC00MzlkLWEzNjEtZDcwMGU1OTI5N2Iw',\n",
              " 'NjBkODM0NjMtY2U1OC00ZTgwLWI0YjgtOWZhMmFiMWE0NGEy',\n",
              " 'MGUzNmIwNGQtMDdhOS00ZjVkLWFlM2YtZGQ3YjZlYzcwYTdi',\n",
              " 'YzNkYjVkMTctZWVlNS00Y2U5LWEwMmItNDI5MjNlMDFlYjVk',\n",
              " 'YTI0MGYzNTktMjRhMi00YmZjLWIzNDgtNzk1Nzg0ZTYzMmM1',\n",
              " 'OGE0ZjIxNDMtN2IxNy00OTFmLTk5MWUtMTliOTM2NjU0ODBl',\n",
              " 'NWU1NzdiNjktNDI1Mi00M2NjLTkzMzAtNjJhMDkyMWExZTFm',\n",
              " 'ZmM2NDU0MWYtNWYzZi00OGY0LWJhZTAtZTNlNGZlZDcxMDYx',\n",
              " 'ZjJkNDdmMjctN2YwMC00N2RiLWI4MWItNGYyNzEyMGIwYjMx',\n",
              " 'MGFkZmM1ZjctZWEzMS00OTZkLWJlYjEtNzNkYzg0N2Q2Y2Zm',\n",
              " 'N2VhYjFkMTAtYTAzMC00ZGM4LTkxODgtMmMwNmQ4MGFhYzk3',\n",
              " 'NDJiY2EyOWMtMzdmMS00MjI4LTk0MzUtNTgxMGU5Nzg2MGVl',\n",
              " 'MWZhYWE3YzAtMjBiYi00YzdjLTlhMjctYzNiZjk3OTdkNzRm',\n",
              " 'ZDlmY2FlYmQtMDVhNC00MDdhLWI5YjktZTdkYmVhNTk3MjJh',\n",
              " 'NTJmYzNkNWUtZWExZi00MTUzLWJmMjItMmIxMjFkMjEwYTgx',\n",
              " 'MzA2Yjc1MTgtOThkYi00YmFhLTg1NWUtM2Y4NTIxMTQ0ZTY5',\n",
              " 'MzhjMzkxYmItYzFlMS00ZjUwLWFhZTktZjIzZWRlOWY2Njk5',\n",
              " 'ZmRhOTQxMTktNmY2NC00MzJhLTgzMjItNmYyYmI4YzRkNzcy',\n",
              " 'OTZhNThkNDctNzVlZS00OTVmLTljOWEtMzQzOWQ0NDJlY2Ez',\n",
              " 'NDMxZGM0YWItNzc3MC00ZDYyLWFlYjktNWQ0ZjVhNWVhN2Qz',\n",
              " 'ODUwMzI0NTMtY2Q2YS00N2RhLWFkOTQtZjk1ZTcwNjM4Y2Ez',\n",
              " 'NWUzM2EwNjItMjhhNS00NGExLWJhODctYjQzYmFmNGUxNDBh',\n",
              " 'MDhlNGEyYjMtYjU4YS00ODAzLTk0OGQtNjc4ZDk0OGRjYTRh',\n",
              " 'Mjg2NzI0NjctMGQ4NS00MzA3LTkzN2ItZWIxNDAzNDgzZDVl',\n",
              " 'ZjQ0OGYyODYtNmMxNi00OGQwLWFiYTMtNmQ4MGQyZjU4YzAz',\n",
              " 'M2Q0MTcyYjYtMWUyMy00NzI5LWIzMzQtYTQwN2Y1OGQ5ZDcx',\n",
              " 'ZTA2MTc3ZDctNjBhNC00NzhjLTk1ZDQtY2Y1YTNiZmJlYThj',\n",
              " 'ZWZjZGM5YzYtOTBlZi00OGJhLWJiNGMtODk1NjU1Y2Q3NmIx',\n",
              " 'ZWFhZTQ0MTEtYmQ1YS00MmIyLWEyZGMtNjAzMzI0NWI2NjFl',\n",
              " 'OTg1OWZkMWYtZmExNi00YTc1LWJhZTgtMGEzYmVhMzc1YTM3',\n",
              " 'YWI4MGZkNjYtNmYzNi00MGNmLTlkYWEtZWM0NGY1OTdkMzhl',\n",
              " 'NDQxNjA1YjYtMmZmMy00ZWFmLThmNTEtOTk0NTdmZWQ5Y2Vj',\n",
              " 'ZWZhNTQ1YWUtMmM1MS00ZDc0LWE4MmYtZmQ0ODE4YTgxNWZi',\n",
              " 'YzZiMmZhNGItMTgxNi00MDRhLThhNzktYjJjNmM5MzU3MDdm',\n",
              " 'MzRjNTk4MTctMDBmZi00NGZlLThiZDMtYWJkNTAzOTBmYWIy',\n",
              " 'NmQyODJlZDEtMGYzYy00Yzg3LTliYWYtMTUxY2M3Zjg2ODM5',\n",
              " 'Y2I3ZjY1M2EtMmUwNi00NDQ4LTkwMjEtYzk3YWViZTNlODdj',\n",
              " 'Y2RiYTYzZmEtOGZjZi00MjdjLWIzMmUtZjFlMTIxMzU1NjQ0',\n",
              " 'ZTRmYTJhMzUtZmEzYS00NzAwLTkxOWUtODE3NjQ5ODRjMzVj',\n",
              " 'OTA0MGRlZDEtYjc4YS00M2EwLWE5OGQtNTgzY2MzMDNhNGRl',\n",
              " 'Y2NkZWRhMjMtN2I1MS00M2U1LTkyMGQtZDU0NmE3YTVhODRj',\n",
              " 'MjBjNzFlNmQtYTAxMi00ZDhmLTg4YjctN2MzMjA3Mzc5M2Fm',\n",
              " 'OTk0MzExYmMtNGUyNi00OTc2LTkyZTQtNWExMWY3N2RmMWNh',\n",
              " 'ZDhhNjE1NTgtNWVkNy00YWI0LTg4NDItMGYzM2NlOTAzYjQ4',\n",
              " 'ZDE3NjI5MzUtMWZmOS00YTYyLWFiMGItMzllMDAyYmIxYTZk',\n",
              " 'M2YzYTAzZWMtYThiMy00ZmNkLWJmNDItM2ZjNTdmMDA0NmNk',\n",
              " 'ZTYwZDgxYTktMDIwOC00NDk5LThkY2UtMjY3OWQxMmEwOWQx',\n",
              " 'MDc2NTdjMTctYjMwMC00NGM1LWJkOTYtZDRlODE0NWQ4ZTUx',\n",
              " 'YTVjZDQ5ZjItZjViNi00YzFmLTlhYzQtMDI5NTJkNmQ5YzYz',\n",
              " 'NGM2OTQxNTItOWE0YS00YTdlLWJmMzctYWYxNjZmZDU5ZWRi',\n",
              " 'ZDJmZmMzMTYtMTcwNi00NWRiLTk1Y2YtMTAzYWI4NTIyYzVl',\n",
              " 'OGQxZmU3MGYtYWY3YS00YjBmLThlYmUtZmM5Njk4OWEwNjEx',\n",
              " 'MThjZDdiZTEtODFiNS00MzFmLWEzZTItMTZmYzU1OWJmNWI4',\n",
              " 'MTExMzUzMzYtODQ0Ny00ZWNkLTg3ODQtMmRkNzFiNzM5N2Zj',\n",
              " 'OTAxMjMwZGQtMTBhNC00YTc4LTljZDQtNzY5ZmZhYTlkOGEy',\n",
              " 'ZTJiNjExZGEtN2YyOC00OGFlLWJmMTAtMjI4OTk0Yzk4ZjEw',\n",
              " 'MzM3Y2U0MzMtOWI2My00YzYxLWI3YTEtODYwNzY2Njg2ZWU2',\n",
              " 'YjE3NmQzZmQtNjVhMC00YTUwLTlmNTUtODBhNTBiNDdmZDk3',\n",
              " 'Mjk3ZDBjMzMtMTdiYS00MTc1LWFiMWEtMmQyNmI0OTM3MWQz',\n",
              " 'M2IyN2VlODQtZDYxNy00MmVmLWIwZTUtN2NlNGFjNTUzZTlm',\n",
              " 'ZmJhNmFiMjAtYzc0My00MmJkLTk5OTktNTQ4NDc5NzAxNzg5',\n",
              " 'NDc4ZjY3OWMtNjBkYi00NGEzLThmYjMtZWFmYjljOWE3Mzk3',\n",
              " 'OTg5OWI0NTUtYzgyNS00YWU1LTgxMDItNDdkM2U4N2VjNGEy',\n",
              " 'NDNmZGE2ZjEtMzdhMi00NmIyLThmOWUtMjk0ODM3OGFiM2Vm',\n",
              " 'MTY0M2U0NGMtNTcyZC00ZmQ1LWEyNDgtOTk4MWI2M2FhYmE1',\n",
              " 'ZTAwODBmMDMtMTY5My00MDY1LWFlOWItYjY3MTgyODAzYzEz',\n",
              " 'NjU5YTU2OTAtYzFjMi00ODBjLThlNzEtMWRkOTk0NTc1OWQw',\n",
              " 'YjhiMjUwYzAtZWNkYi00ZTA5LTgxNzItOTg5MTMxMDgyOTJh',\n",
              " 'NjVjOGJjZDctNGI1ZS00N2M5LWIyOTItNTk2NTk5MGRkMmFh',\n",
              " 'ZTM1NzU3N2QtYjIwNC00OTAzLTkzZDgtNjY2NDI4ZDk2ZTc3',\n",
              " 'ZDgwYTU0MDgtZmZjNS00ZTM1LWJlYzctNDU5MzI1NDQxYTEw',\n",
              " 'YWM3ZmExYjYtZjdiYS00MDk0LTlmZTYtZWZhMzk0YTZlMDg2',\n",
              " 'MDFiMmViZDctNmNlMC00MWFlLWFlNDAtOTc1YjdhYjBhMjI0',\n",
              " 'OGI5MDBmNzItNmVlNC00M2Y3LTllNWYtNzEyNGFhZTNhY2U3',\n",
              " 'NGViNDE4ZmYtYmI5OC00ZDg2LThmMWMtZTg0NzQ1NDA5MmZk',\n",
              " 'ZDQxOTU4ZDQtNjA0My00YjZhLThmMmMtNmE2NzAzNmRmYmMw',\n",
              " 'Y2E1ZjRiYjctZTAwMC00MjY5LTg2YmQtMjY2ZmRmMGZlZDFi',\n",
              " 'ZjAyZGU1YjUtYjIyYi00MmJlLTgyOTctZDdhNWI4ZDNjODRm',\n",
              " 'MDEzMzJmMWYtZTJkMy00YzRiLWI4MDMtNWM0MzBkOWM0NmE1',\n",
              " 'ZWExOWU0MDEtYWEyMC00Njg0LWE3NjktNTBiNmUwNzdjYjQ1',\n",
              " 'ZDBlN2U1ZDktM2E4YS00YjY0LWJmNGUtNDM0ZjdmYjYyZmRi',\n",
              " 'MmMwZTZlZTEtZjM4OS00ZjVlLWI1N2MtNDE5YWY5ODliZDY0',\n",
              " 'NDhkYjM1MmItNzhhZC00NDYwLWI1ZGYtNTFiODVkOWY4YmQ2',\n",
              " 'MzUzYjIyY2EtYzNlYy00ZTY1LWFjODUtZGIyYTc0NjRiZDZj',\n",
              " 'MzdmYzEyYTAtOTE4YS00ZmJkLWEzYzItZmY2N2Y0NzE5NTA4',\n",
              " 'ZDkzMGFmY2UtYWI0Ny00ZjM5LTk2YTAtNTE2NWYwZGE5MGUz',\n",
              " 'ZGM0MGY1NTYtZjk4ZC00ZGFiLWE2MWYtZTc4NWM5N2U2OWIx',\n",
              " 'M2FiOTdlMjQtYWQ0MS00ZGE1LWE2NjktNzRhYzYwYzBkYTNh',\n",
              " 'ZDU3MDhmNTItMGE0NS00MTM4LTgyZjItMGQ2YTYzNzVmNGVl',\n",
              " 'ODgwMDA4ZWEtZWVlMy00YTI5LWE2ZmItNWRkMDkwODU3N2Y0',\n",
              " 'MDg5YjI5MTMtMjEzZC00ZjI1LTg0MGMtZmEzM2RkODY5NzBj',\n",
              " 'OTg5YjU3MzktNWNjZi00NWJhLTk2YzUtMTkyYzhhMWE1MmMy',\n",
              " 'YmE2ZDdhMWEtZjE3My00MjRkLThiOGMtZThkN2ZmY2RkNTNi',\n",
              " 'NDg2NGM0MzgtYjAwZC00NWY5LTk1MjgtOGFkODNlNDEzYTc5',\n",
              " 'YzUyMDY1OTAtYmRlOC00ZDNmLWE4OTEtYjg3NTM4MGM0N2E1',\n",
              " 'Zjg2ZjQ0NWItOTRhMi00NTRhLTg2ZDctZjVhNzgwZjAzNzc5',\n",
              " 'MTdmMzA5MGUtYWQxMy00MWRhLWE4YTctYWVmYWRjYmIzNWVk',\n",
              " 'ZDM1OTU3ZDQtZWY2NC00MWFjLTk0M2EtOTNmMDNiZDE5MmQ5',\n",
              " 'Y2YxMWFkOTUtZTI3Ny00YjE1LTk2ZDctNWU0MDk2N2M4MTFk',\n",
              " 'YTkzZjIyODgtZTM3Mi00OWQ1LWI3NjgtYTcyNzNiZDY1YmQ4',\n",
              " 'ZWI3YTA3NWEtZDgyNi00OWRiLWJhYjMtMzUzYjUwZTU3Yzdk',\n",
              " 'NDFmZTZkNjMtODVjYS00MWJkLWEzNzktZTI4MzY4ZDM4ZjIz',\n",
              " 'MjhiZDlmMjYtM2Q3Yi00NTAyLWJkZjMtNThjNDgyYWU0ZGQ0',\n",
              " 'MjM4ZjVhMDYtNjkxMy00MmJjLTljY2QtNjVjNzIxMTkzN2Q1',\n",
              " 'MTFkOTFmMzgtMTExOC00ZDJhLTg0MTQtZWNiOTg1NzBmMDIy',\n",
              " 'Y2I2ODAwZmEtYTJjNi00N2E2LTkxYTMtY2E3ZjFkNGVmNGY4',\n",
              " 'NGIwYmM1NTAtZTJiNy00ODkxLTkxYzQtYmIwMTUyZjUxYmFl',\n",
              " 'NjA2OThjNmYtZWFkMC00MWQ2LTgwMDMtMTQwOGZkNmU4ZjY4',\n",
              " 'NTM0MWJmZjktOTliMS00YTYzLWFlNmEtZDg2Y2ZlNmYxM2Ew',\n",
              " 'Njg2YWViNjYtMGQ5Mi00MTI5LWI1N2MtNjRhNDMwNjlmYTI0',\n",
              " 'N2RlMDBmNTQtY2NiYS00OGRhLTgwNjItYTA2ZjBlNmYxOTE0',\n",
              " 'YWUwMTE3ZTUtNDY2MC00ZDZjLTk5NDItNjFhZWQ3ZTdlMzUy',\n",
              " 'ZDY0NjRmMjYtOGYzYS00YzAxLTk0NmYtMjk3ODhmN2RlNjI3',\n",
              " 'YTU1ZWY3MjgtYTEyOS00MjYxLWI0ZjAtYzQzYTM2YzI5ZGJm',\n",
              " 'Nzg2ZDVmNjktNzg0NC00YTA4LWJjMzYtNDZkNzJmYWNlMGU4',\n",
              " 'YzkxYjU0M2QtNzhmNC00ODQ1LWI1NTYtNDJmMGE4MWE1Nzdi',\n",
              " 'YmYwOTZhZWUtYzgwYS00MzJjLTliNjgtODM4NTc2OTZkNzgw',\n",
              " 'MjI2YTZmMWMtZDQ0Zi00Y2Y3LTgzNWEtOTA4MzQxZTczNTIz',\n",
              " 'YzE4Zjc1NjItZjQxNC00MjAyLWI2NzItYTdhYmMyZWUzNzQ3',\n",
              " 'YTBiZTkxMGYtYTk1Ni00YWYyLTkwYzgtMTdlNDIwMjZhYzEw',\n",
              " 'ZWQ2ZWI3NzUtY2EwOC00ZTllLWE2NDUtMGZmZDRkMDg1Nzk2',\n",
              " 'NmUxNTRiOGEtMDYzNi00Yzg5LWJjY2EtMTc2NWQxZjU4NThj',\n",
              " 'YTI2YmFmNGUtZDU5Yi00ODFmLWFlZWMtZWIxMzJkNjNiN2Fi',\n",
              " 'MmZmYWNmMTAtNDY5Ni00N2ZmLTk4NjctNWM2NmQ3NzRlOGUx',\n",
              " 'YTFiNWUzY2QtMGE5MC00MWE5LTgxMWItYTc4ZDhmZGRmYTA5',\n",
              " 'ZDY5MTZhZDYtNjQwYS00NGYwLWE5NGYtYjRjM2U5MGM5NmMz',\n",
              " 'YTY1OWU0NDItZmQzOC00YjJhLTg1NTgtNjVlZDkzZGQwZTg1',\n",
              " 'YzIwN2UyNGYtZGM0YS00NzMwLTk1YTQtM2M5ZWY2YjlhYjQz',\n",
              " 'MjVmYTU4ZjAtMzA0YS00OThiLWI3NDktNWEwOTg3MDg3Y2Zj',\n",
              " 'NDYyNzc1ODUtMDAyZi00ZWE3LWJiMGUtOTQwNTljYzliM2Uz',\n",
              " 'ZGQ5ODc4YTItN2Q5Ni00NjYyLWE1OWEtNmU2ZjUyM2FiZjdm',\n",
              " 'NWE1YmE4MDQtYmNlOS00MzRlLWEzYjQtODdkNzQ4MzM3Y2Zh',\n",
              " 'ZWE1MzVlMGYtMmUwOC00OTllLTk3MjItODU1Mjg3OWRmYTll',\n",
              " 'NTczYWQ0MDAtN2Y5Ny00NDM4LTg4M2EtYjZiZDgyOGVlNGYw',\n",
              " 'N2RiMjJiMTEtMTU3Yy00ZTM0LTk3NTAtNDM5ODZmZWU0NGFh',\n",
              " 'MmE2ZDIxMjItYTg4YS00ODNmLWJmODctYWRlN2I1ZDE5OWE2',\n",
              " 'NmI3Mzg3MjEtN2ZkNi00ZTgyLTlkZDItMjMxMjAwMGU2NTg3',\n",
              " 'MmVjMzJhMTAtMTFhNy00NzM5LTllYjQtNWY5NzQ4NjA4YTYw',\n",
              " 'MjBmYWM0NGMtYjhkYS00ZjJjLThiZTUtZWZkZDE2ZmI5NDhi',\n",
              " 'NWVhZmM5MzMtZDQ1ZC00NGUxLTgwZGQtZTdkYTQ0ZGM3ZjYx',\n",
              " 'MTRmOTY2MmQtMzFmYy00OGFkLWE3NzItNWZkOThmYjkwZmM4',\n",
              " 'MjY4YTE2NWMtY2MyNS00NTMwLWExYjEtMThhY2E2MmNhNDVl',\n",
              " 'MmQyYmQxMDMtNzBlMi00YTI4LWIzNjItYTQ1MjAzYzViOTNh',\n",
              " 'MzZkZTg3NTAtMjUwZC00ZDhiLWJkOTAtZWQwYTZkMTBkMjI1',\n",
              " 'Njk1NTNmMDAtOTA1Zi00OGJkLWEzMmMtY2U2NGJmYmRjNDBj',\n",
              " 'MjBmMTdhZGEtNjYyYS00NDhmLTg2YWEtZDM3NDZjMGExZTQ0',\n",
              " 'ZWExOTM4YTgtNGE4OC00NzVhLWI3ZDctOGIwNzAyM2UzZDEx',\n",
              " 'ZDUwZjY1ZmUtMTVlMC00ZGQ2LWIyM2YtNTkyN2RhYzhhMTVh',\n",
              " 'N2ZhNDUxY2ItYTcyMC00YjFiLThmOGYtZDY2NzE2NmUxZjRj',\n",
              " 'NzVhZWNhNjQtNDQyNy00NWE2LTg0NjMtZDJkNTc2ODY3ZWNj',\n",
              " 'YjI1NDk4YTgtYWMyYi00YTNmLWFlY2UtNjllMGZmNTc0Y2Yx',\n",
              " 'Y2ZhNjNhZTMtYzk3Yi00ZDBkLThiZDgtODYwZWExYmYyOTky',\n",
              " 'Nzk3MjMxZmEtOTZjYS00ZGI2LTg4MWMtZTM4ODdmZDk4OWNh',\n",
              " 'OWU0MWUxNDEtYzI4Yy00ZTVmLTlkYjMtZGVlMTRiN2FlZjZm',\n",
              " 'ZmZjYzY2NTAtNmUwZC00MTRmLTlkOTMtM2Q4NWI4ZGMzZTI5',\n",
              " 'MjMxZWYyYWItN2FiMS00ZTcxLTllMDQtY2IxMGVkOWUyOWUz',\n",
              " 'YjMxYTU1MzEtZDY3ZS00YjI5LWFjMzEtYTk5NGQwNmY2NDAw',\n",
              " 'M2U3ZjY3OWUtMGJhMi00M2Q1LThjOTItMzUzM2QyNGMyMjg2',\n",
              " 'YmYyNzhjOGYtZjJhNy00YjczLTg3ZDYtM2NhMTRhOGJlNGRl',\n",
              " 'Yzc2MTkzMjAtMWQzNC00OGEwLWJjMDMtOGUwZmQxNzY3MTI5',\n",
              " 'ZTQyZDkyNzYtZmQ0Mi00OWQ2LWJiOTktOWZmNjBjNzU3OGZj',\n",
              " 'YzI2MzE0ZmQtZDAyNC00ZDFkLWJiOWItOTU1YzBjYWRjNGZl',\n",
              " 'ZTM3YTI3NTgtNzllZC00OGExLWJhYmUtMzkwYmQzMDQ0ZjUx',\n",
              " 'N2UxYjNiMWUtODgxMC00YzQxLWE4YjYtYjZmM2I1MjVhNDRj',\n",
              " 'MzBkOGRkMzMtMWQ3Ny00M2Q3LWJiZWQtNjE0ZTEwN2Q5N2Y4',\n",
              " 'N2QzZjlkZmMtNDUzOS00M2NiLTlkZTMtNzBjY2VhMzA2YzFj',\n",
              " 'Mzk4ZDU0NTAtNjkyNC00ZTI5LWI4NTktZjVhNTNkZmUwN2Ji',\n",
              " 'MThkNzMwNGMtNjRlNi00MGI1LWI0NjctMzg4ZjExOTcwNmM0',\n",
              " 'YjY5OTZlMjAtMDA5ZS00NGRjLTk0YWQtZGNmNjQzODk2YTZk',\n",
              " 'ZTMwYzFkNDMtZTc5ZC00YTA3LWE5N2UtYmRlNDE4MzljNmIw',\n",
              " 'ZDlhNzM1ZDctNWI5My00ZWZjLWFhZTYtMDRjMGUwYWFlMWQw',\n",
              " 'OTVlOWYzZGUtNTBlMi00ZTM2LThjODgtYjViNGRjZGJiYWZi',\n",
              " 'YmFlYTIzNjctMWQ2OS00MmU4LTgxNzUtYTNjZTA4MWEzM2Zk',\n",
              " 'ZmQxNTFiMzAtMzEwNy00NmQzLWFiYTktZWU4YzcyZDAyYjU1',\n",
              " 'ZmQ5NTQxYjQtNzQyZi00OWViLTliNzEtNWQ3Njc3ZGEyNjQz',\n",
              " 'OGQ4YjdmMTMtMzM2Mi00MGQyLWFjNjUtNTRkMTEzZTkyNTY0',\n",
              " 'Y2Y0ZjVkMGQtOTFkZS00YTk4LWExZTctNzljOWJiNTFkMzY2',\n",
              " 'NzMxY2FmNTMtMTk0MS00ZTIzLWE1NjYtNGY5NWM1MmM3N2Fh',\n",
              " 'ZDFjYmM1ZTUtMWFlNi00ZTg4LThiMWItYzk4ZDhjYmFjN2Qw',\n",
              " 'NTZkMzBkYTctNTM3ZC00M2RmLThkMmItNDFjMjk2Nzc3NTc2',\n",
              " 'YzljYjgxZGQtZTI3ZS00YTlmLWJhMTQtZGIzZjI1Njg2NDNk',\n",
              " 'ZTg5ZDhlYmItMGFjZi00NzgxLWFlM2YtM2UxOWFlY2MwZmM4',\n",
              " 'MDM4YTUyNzgtYWIxMy00YzAzLWI5YjQtZDE5ZTAwZWRlMjAz',\n",
              " 'NTE3NTBmNTAtMjM2ZS00ZjcyLTg0NTYtNjU3NTllYzM4MDA2',\n",
              " 'YzhlMTRlNTgtNzg4My00ZDc5LWEzNzUtNWQ0M2Q0N2UxZjMx',\n",
              " 'MWNhOTAzZDEtYmZhNC00ZGI4LThhYTYtNDAxODJkYTIyNjM0',\n",
              " 'Yjc3YTAxOTgtNmY3YS00MzEwLWI1MTMtZWMyMTY0YmViNTEx',\n",
              " 'OWJjZGUwMTYtZDE4OC00YjYxLThjODEtZmE3ZDY2ODQ1ZTY2',\n",
              " 'YzZkZGQwZGQtMThmZC00OTMxLThhZjYtYzFlOGQxODE2YmQ1',\n",
              " 'YjE0ZTVhODEtZmQ1Yy00MjBkLWJhOTUtZDllZGQ1ZjY1NzFh',\n",
              " 'NTEzZDM1ZTYtMWM3Mi00ZmVhLWFmNmMtNTUyODQ0YmU5YjY4',\n",
              " 'OTMxNmYyNGItZTM5MC00ZjQ4LWEzNWQtNDRiMjYzNmVmNzI3',\n",
              " 'Y2VjYTFiYTItYTdhMS00M2EyLTlkZjYtMmEyMDg4NWZhZTY0',\n",
              " 'Yzg5ZDUwYjYtZTkxMS00MjQ5LWJiNTYtZTdjOGRiN2M1YmI0',\n",
              " 'NDEyN2UyZDItMzA3Ni00ZjlmLThhMWMtNTA0NWU3NzkwMGYw',\n",
              " 'ZWRkOTNjYzYtZjBmNC00YzdkLThlMjUtZDU2ZWNkYWM0NzRi',\n",
              " 'OGIyY2Y0MWEtODU1OC00NTNiLWJjODYtNmEzM2NjMmMxMjMz',\n",
              " 'N2E3ODIxZTgtZDMzNi00NjQ2LThlMDctZDk4MjdiYzk3YjY4',\n",
              " 'MzVlZTBmZTktYzIxZC00NzU1LWJhZTEtY2UxMjczZjU5NTA3',\n",
              " 'MzgyZTkyZGEtYjA0ZS00YWM1LWI3MTMtMTAwOTFlNTBlNzZl',\n",
              " 'YjdhNjZkZWEtYjZhMC00OWQ5LTlmMzMtZGJhYzNlMWYwMWZh',\n",
              " 'OGFkYTc5ZjMtYzgzZS00YWU5LTg1NDYtMGRiODM2MDllNjJm',\n",
              " 'Yjk4NGM4ZWYtZGFjOC00MWE2LTkyYWItMDNjMjA4Zjc3YjUz',\n",
              " 'OTI4NzNmM2EtM2I5Yy00YjMyLTg1YjAtZDUyMzkxNGIwMjVi',\n",
              " 'NmMyOGJmODYtZDM4OC00N2RiLTk0YzktMWZhMWNjMTZmYThh',\n",
              " 'ZjAyMmRlN2UtMjI3Ni00ZTA3LWEwZWUtMTkxNDIwMGY5NzIz',\n",
              " 'OWUxYzNkNDQtZmJkYi00NTBhLWI1MjktZDI1YzljMzdkM2Ez',\n",
              " 'ZjMzOWQ1MGMtNjU1ZS00MWI5LTg1NTctMmNkYTUwZDliYmI0',\n",
              " 'MThhMWU0ZWItMDAzOS00Y2FkLTk4MWItNjQwZmU3NDZmYWIx',\n",
              " 'ZGM1NmY5MjQtNDcxMS00MjRkLTgxNjItZmM2YWU5ZDViYzI5',\n",
              " 'NjdlODBjODYtZDU3Zi00NTE0LWFiN2YtODM0OWYxYjk4OGVl',\n",
              " 'Y2M0Y2RkMGYtNjI2NC00NzY4LWI4NWEtMGIzZjYwNTExOTA5',\n",
              " 'OWNhNGU5ZjctMjBlMi00ZTA2LWIyZTctMjBlZjcyNjE1ODRl',\n",
              " 'MTY2NjJjMmUtYmU5Ni00NTlhLWE1NGEtNTE0ZWZiNTY0MmQx',\n",
              " 'ZjMwMTNkNTUtYjI5OC00ODYwLWI1ZjEtZjY2NjFkOGIyYjZj',\n",
              " 'MzBjYzAyNTAtNWYwZi00MGRkLWEzZTItYjk1ZTFiNzAzYTZj',\n",
              " 'ZjhiYmJhNWYtYzYwNC00YjUyLWI2ODYtN2MwZGUwZTE4NGNj',\n",
              " 'NmNlYmRlZWEtYzNiYy00YTJjLThiOGUtZTA4ODczMGQ4YWMy',\n",
              " 'NTNiMjVjYmItOTJkOC00Y2ZkLWIyN2EtNjZmMTg3MThiMDY2',\n",
              " 'N2E2MTgyNDUtMDkxOS00ZTFiLTkyM2QtNmVhMWVmZGMwMzhi',\n",
              " 'OTkyM2U2NzctY2FmOC00NTgxLTkwYmUtNTk1ZGJhOWZkZmNj',\n",
              " 'NmYzMTNhNjMtOGFjYy00OTRhLWI4ODgtN2M0NDI1Zjg2ODg1',\n",
              " 'OWRmMTVmMGMtNThmZi00OTBkLWIwZWYtNjE3ZjhjMDA3NTRh',\n",
              " 'YzI1Y2NiMmItZGUxNC00ZDE2LWFjZjEtYjczZGNkNDQ4YTU3',\n",
              " 'YjZkNmUwN2YtMjMxNi00OTk3LWIzYjEtYjhlMmQyMTY0NjU2',\n",
              " 'YTZkZjkyZjAtZWRiOS00NmRhLTlhOTQtOWY5MzM3YTg5Y2E0',\n",
              " 'NjVlNDNmODktNjdkMy00ODk1LWJiMjMtMDYyNzU1ZDI1MjRh']"
            ]
          },
          "execution_count": 8,
          "metadata": {},
          "output_type": "execute_result"
        }
      ],
      "source": [
        "vector_store.add_documents(documents=docs)"
      ]
    },
    {
      "cell_type": "markdown",
      "metadata": {
        "nteract": {
          "transient": {
            "deleting": false
          }
        }
      },
      "source": [
        "## Perform a vector similarity search"
      ]
    },
    {
      "cell_type": "code",
      "execution_count": 6,
      "metadata": {
        "gather": {
          "logged": 1696830688453
        },
        "jupyter": {
          "outputs_hidden": false,
          "source_hidden": false
        },
        "nteract": {
          "transient": {
            "deleting": false
          }
        }
      },
      "outputs": [],
      "source": [
        "docs = vector_store.similarity_search(\n",
        "    query=\"What is the latest status of merger with Albertsons?\",\n",
        "    k=3,\n",
        "    search_type=\"similarity\",\n",
        ")"
      ]
    },
    {
      "cell_type": "code",
      "execution_count": 7,
      "metadata": {
        "gather": {
          "logged": 1696830692772
        },
        "jupyter": {
          "outputs_hidden": false,
          "source_hidden": false
        },
        "nteract": {
          "transient": {
            "deleting": false
          }
        }
      },
      "outputs": [
        {
          "name": "stdout",
          "output_type": "stream",
          "text": [
            "16On September 8, 2023, the Company and Albertsons announced they entered into a definitive agreement with C&S for the\n",
            "sale of 413 stores, as well as the QFC, Mariano’s and Carrs brand names, eight distribution centers, two offices and certain\n",
            "other assets in connection with the proposed merger.  In addition, Kroger will divest the Debi Lilly Design, Primo Taglio,\n",
            "Open Nature, ReadyMeals and Waterfront Bistro private label brands.  All fuel centers and pharmacies associated with the \n",
            "divested stores will remain with the stores and continue to operate.  The stores will be divested by the Company following the \n",
            "closing of the proposed merger with Albertsons.  The definitive purchase agreement has customary representations and\n",
            "warranties and covenants of a transaction of its type. The transaction is subject to fulfillment of customary closing conditions, \n",
            "including clearance by the Federal Trade Commission (“FTC”) and the completion of the proposed merger.  C&S will pay the \n",
            "Company all-cash consideration of approximately $1,900, including customary adjustments.  Prior to the closing, the\n",
            "Company may, in connection with securing FTC and other governmental clearance, require C&S to purchase up to an\n",
            "additional 237 stores in certain geographies.  \n",
            "In connection with the merger agreement, on October 13, 2022, the Company entered into a commitment letter with\n",
            "certain lenders pursuant to which the lenders have committed to provide a $17,400 senior unsecured bridge term loan facility,\n",
            "which, if entered into, would mature 364 days after the closing date of the merger. The commitments are intended to be drawn\n",
            "to finance the merger with Albertsons only to the extent the Company does not arrange for alternative financing prior to\n",
            "closing. As alternative financing for the merger is secured, the commitments with respect to the bridge term loan facility under\n",
            "the commitment letter will be reduced. Upfront fees with respect to the bridge term loan facility are included in “Financing\n",
            "fees paid” in the Company’s Consolidated Statements of Cash Flows and will be recognized as operating, general and\n",
            "administrative expense in the Company’s Consolidated Statements of Operations over the commitment period.\n",
            "On November 9, 2022, the Company executed a term loan credit agreement with certain lenders pursuant to which\n"
          ]
        }
      ],
      "source": [
        "print(docs[1].page_content)"
      ]
    },
    {
      "cell_type": "markdown",
      "metadata": {
        "nteract": {
          "transient": {
            "deleting": false
          }
        }
      },
      "source": [
        "## Initialize a retriever from the vector store"
      ]
    },
    {
      "cell_type": "code",
      "execution_count": 8,
      "metadata": {
        "gather": {
          "logged": 1696830700879
        },
        "jupyter": {
          "outputs_hidden": false,
          "source_hidden": false
        },
        "nteract": {
          "transient": {
            "deleting": false
          }
        }
      },
      "outputs": [],
      "source": [
        "retriever = vector_store.as_retriever(search_kwargs={'k': 3})"
      ]
    },
    {
      "cell_type": "markdown",
      "metadata": {
        "nteract": {
          "transient": {
            "deleting": false
          }
        }
      },
      "source": [
        "## Create a custom prompt"
      ]
    },
    {
      "cell_type": "code",
      "execution_count": 9,
      "metadata": {
        "gather": {
          "logged": 1696830703922
        },
        "jupyter": {
          "outputs_hidden": false,
          "source_hidden": false
        },
        "nteract": {
          "transient": {
            "deleting": false
          }
        }
      },
      "outputs": [],
      "source": [
        "template = \"\"\"You are an AI system well-versed in finance designed to answer questions from users in a designated context. \n",
        "When presented with a question, you must reply with accuracy to inquiries using only information provided in that same context. \n",
        "Please reference the source document at the end of your answer when possible.\n",
        "If there is ever a situation where you are unsure of the potential answers, simply respond with \"I don't know\".\n",
        "\n",
        "Context:\n",
        "{context}\n",
        "\n",
        "Question: {question}\n",
        "\n",
        "Answer:\"\"\"\n",
        "\n",
        "rag_prompt_custom = PromptTemplate.from_template(template=template)"
      ]
    },
    {
      "cell_type": "markdown",
      "metadata": {
        "nteract": {
          "transient": {
            "deleting": false
          }
        }
      },
      "source": [
        "## Initialize LLM and RAG chain"
      ]
    },
    {
      "cell_type": "code",
      "execution_count": 10,
      "metadata": {
        "gather": {
          "logged": 1696830706620
        },
        "jupyter": {
          "outputs_hidden": false,
          "source_hidden": false
        },
        "nteract": {
          "transient": {
            "deleting": false
          }
        }
      },
      "outputs": [],
      "source": [
        "llm = ChatOpenAI(model_name=\"gpt-3.5-turbo-16k\", temperature=0)\n",
        "\n",
        "rag_chain = (\n",
        "    {\"context\": retriever, \"question\": RunnablePassthrough()} \n",
        "    | rag_prompt_custom\n",
        "    | llm\n",
        ")"
      ]
    },
    {
      "cell_type": "markdown",
      "metadata": {
        "nteract": {
          "transient": {
            "deleting": false
          }
        }
      },
      "source": [
        "## Ask some questions"
      ]
    },
    {
      "cell_type": "code",
      "execution_count": 11,
      "metadata": {
        "gather": {
          "logged": 1696830717621
        },
        "jupyter": {
          "outputs_hidden": false,
          "source_hidden": false
        },
        "nteract": {
          "transient": {
            "deleting": false
          }
        }
      },
      "outputs": [],
      "source": [
        "response = rag_chain.invoke(\"Are there any problems regarding the merger with Albertsons?\")"
      ]
    },
    {
      "cell_type": "code",
      "execution_count": 12,
      "metadata": {
        "gather": {
          "logged": 1696830719454
        },
        "jupyter": {
          "outputs_hidden": false,
          "source_hidden": false
        },
        "nteract": {
          "transient": {
            "deleting": false
          }
        }
      },
      "outputs": [
        {
          "data": {
            "text/plain": [
              "\"Yes, there are potential risks and problems associated with the merger with Albertsons. These risks include the expected timing and likelihood of completion of the proposed transaction, potential divestitures that may be imposed by regulators, the occurrence of events that could lead to the termination of the merger agreement, legal proceedings that may be instituted against the parties, the disruption of current plans and operations, the ability to identify and recognize anticipated benefits, the amount of costs and expenses related to the transaction, the potential effect on relationships with associates, suppliers, and competitors, and the potential effect on the market price of securities. These risks are outlined in the risk factors section of the company's documents. (Source: docs/10qq322.pdf, page 32; docs/10k22.pdf, page 12)\""
            ]
          },
          "execution_count": 12,
          "metadata": {},
          "output_type": "execute_result"
        }
      ],
      "source": [
        "response.content"
      ]
    },
    {
      "cell_type": "code",
      "execution_count": 13,
      "metadata": {
        "gather": {
          "logged": 1696830733789
        },
        "jupyter": {
          "outputs_hidden": false,
          "source_hidden": false
        },
        "nteract": {
          "transient": {
            "deleting": false
          }
        }
      },
      "outputs": [],
      "source": [
        "response = rag_chain.invoke(\"How much money was returned to shareholders as dividend in the first two quarters of 2023?\")"
      ]
    },
    {
      "cell_type": "code",
      "execution_count": 14,
      "metadata": {
        "gather": {
          "logged": 1696830735699
        },
        "jupyter": {
          "outputs_hidden": false,
          "source_hidden": false
        },
        "nteract": {
          "transient": {
            "deleting": false
          }
        }
      },
      "outputs": [
        {
          "data": {
            "text/plain": [
              "'$376 million was returned to shareholders as dividends in the first two quarters of 2023. (Source: docs/10qq223.pdf, page 20)'"
            ]
          },
          "execution_count": 14,
          "metadata": {},
          "output_type": "execute_result"
        }
      ],
      "source": [
        "response.content"
      ]
    },
    {
      "cell_type": "code",
      "execution_count": 15,
      "metadata": {
        "gather": {
          "logged": 1696830742443
        },
        "jupyter": {
          "outputs_hidden": false,
          "source_hidden": false
        },
        "nteract": {
          "transient": {
            "deleting": false
          }
        }
      },
      "outputs": [],
      "source": [
        "response = rag_chain.invoke(\"What is the gross margin rate for the second quarter of 2023?\")"
      ]
    },
    {
      "cell_type": "code",
      "execution_count": 16,
      "metadata": {
        "gather": {
          "logged": 1696830745095
        },
        "jupyter": {
          "outputs_hidden": false,
          "source_hidden": false
        },
        "nteract": {
          "transient": {
            "deleting": false
          }
        }
      },
      "outputs": [
        {
          "data": {
            "text/plain": [
              "'The gross margin rate for the second quarter of 2023 is 21.79%. [Source: docs/10qq223.pdf, page 26]'"
            ]
          },
          "execution_count": 16,
          "metadata": {},
          "output_type": "execute_result"
        }
      ],
      "source": [
        "response.content"
      ]
    },
    {
      "cell_type": "code",
      "execution_count": 19,
      "metadata": {
        "gather": {
          "logged": 1696830953188
        },
        "jupyter": {
          "outputs_hidden": false,
          "source_hidden": false
        },
        "nteract": {
          "transient": {
            "deleting": false
          }
        }
      },
      "outputs": [],
      "source": [
        "response = rag_chain.invoke(\"What is the value creation model of Kroger and how will that be achieved?\")"
      ]
    },
    {
      "cell_type": "code",
      "execution_count": 20,
      "metadata": {
        "gather": {
          "logged": 1696830958254
        },
        "jupyter": {
          "outputs_hidden": false,
          "source_hidden": false
        },
        "nteract": {
          "transient": {
            "deleting": false
          }
        }
      },
      "outputs": [
        {
          "data": {
            "text/plain": [
              "\"The value creation model of Kroger is based on its omnichannel food retail business, which is built on strategic assets such as its stores, digital ecosystem, Our Brands, and data. By combining these assets with a go-to-market strategy, Kroger aims to deliver a compelling value proposition for its customers. Kroger focuses on building long-term customer loyalty through initiatives such as Fresh, Our Brands, Personalization, and a seamless shopping experience. This approach drives sustainable sales growth in its retail supermarket business, including fuel and health and wellness. The data and traffic generated from these efforts enable Kroger's fast-growing, high operating margin alternative profit businesses. Kroger is evolving from primarily a food retailer into a more diverse, food-first business that is expected to consistently deliver net earnings growth in the future. This will be achieved by growing identical sales without fuel and making strategic investments in customers, associates, and the seamless ecosystem to ensure a full, friendly, and fresh experience for every customer. More details can be found in the source document. (Source: docs/10qq123.pdf, page 15)\""
            ]
          },
          "execution_count": 20,
          "metadata": {},
          "output_type": "execute_result"
        }
      ],
      "source": [
        "response.content"
      ]
    },
    {
      "cell_type": "code",
      "execution_count": 17,
      "metadata": {
        "gather": {
          "logged": 1696830750820
        },
        "jupyter": {
          "outputs_hidden": false,
          "source_hidden": false
        },
        "nteract": {
          "transient": {
            "deleting": false
          }
        }
      },
      "outputs": [],
      "source": [
        "response = rag_chain.invoke(\"What is alzheimer's disease?\")"
      ]
    },
    {
      "cell_type": "code",
      "execution_count": 18,
      "metadata": {
        "gather": {
          "logged": 1696830752596
        },
        "jupyter": {
          "outputs_hidden": false,
          "source_hidden": false
        },
        "nteract": {
          "transient": {
            "deleting": false
          }
        }
      },
      "outputs": [
        {
          "data": {
            "text/plain": [
              "\"I don't know.\""
            ]
          },
          "execution_count": 18,
          "metadata": {},
          "output_type": "execute_result"
        }
      ],
      "source": [
        "response.content"
      ]
    }
  ],
  "metadata": {
    "kernel_info": {
      "name": "python38-azureml"
    },
    "kernelspec": {
      "display_name": "Python 3.8 - AzureML",
      "language": "python",
      "name": "python38-azureml"
    },
    "language_info": {
      "codemirror_mode": {
        "name": "ipython",
        "version": 3
      },
      "file_extension": ".py",
      "mimetype": "text/x-python",
      "name": "python",
      "nbconvert_exporter": "python",
      "pygments_lexer": "ipython3",
      "version": "3.8.5"
    },
    "microsoft": {
      "host": {
        "AzureML": {
          "notebookHasBeenCompleted": true
        }
      },
      "ms_spell_check": {
        "ms_spell_check_language": "en"
      }
    },
    "nteract": {
      "version": "nteract-front-end@1.0.0"
    }
  },
  "nbformat": 4,
  "nbformat_minor": 2
}
